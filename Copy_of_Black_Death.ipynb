{
  "nbformat": 4,
  "nbformat_minor": 0,
  "metadata": {
    "colab": {
      "provenance": [],
      "toc_visible": true,
      "collapsed_sections": [
        "sHK7Xz3HDrXK"
      ],
      "authorship_tag": "ABX9TyM6iM3G5AV59FQabsHNP239",
      "include_colab_link": true
    },
    "kernelspec": {
      "name": "python3",
      "display_name": "Python 3"
    },
    "language_info": {
      "name": "python"
    }
  },
  "cells": [
    {
      "cell_type": "markdown",
      "metadata": {
        "id": "view-in-github",
        "colab_type": "text"
      },
      "source": [
        "<a href=\"https://colab.research.google.com/github/FinOloughlin/CITS4403-Black-Death/blob/main/Copy_of_Black_Death.ipynb\" target=\"_parent\"><img src=\"https://colab.research.google.com/assets/colab-badge.svg\" alt=\"Open In Colab\"/></a>"
      ]
    },
    {
      "cell_type": "markdown",
      "source": [
        "# Setup"
      ],
      "metadata": {
        "id": "sHK7Xz3HDrXK"
      }
    },
    {
      "cell_type": "code",
      "execution_count": 1,
      "metadata": {
        "id": "FLO-nuEqzU9q"
      },
      "outputs": [],
      "source": [
        "import matplotlib.pyplot as plt\n",
        "import matplotlib.animation as animation\n",
        "import numpy as np"
      ]
    },
    {
      "cell_type": "code",
      "source": [
        "from os.path import basename, exists\n",
        "\n",
        "def download(url):\n",
        "    filename = basename(url)\n",
        "    if not exists(filename):\n",
        "        from urllib.request import urlretrieve\n",
        "        local, _ = urlretrieve(url, filename)\n",
        "        print('Downloaded ' + local)\n",
        "\n",
        "download('https://github.com/AllenDowney/ThinkComplexity2/raw/master/notebooks/utils.py')\n",
        "download('https://github.com/AllenDowney/ThinkComplexity2/raw/master/notebooks/Cell2D.py')"
      ],
      "metadata": {
        "id": "u_ChS5z1DviX",
        "colab": {
          "base_uri": "https://localhost:8080/"
        },
        "outputId": "3bc661ad-85b1-44aa-af53-5a6ee0f0b08a"
      },
      "execution_count": null,
      "outputs": [
        {
          "output_type": "stream",
          "name": "stdout",
          "text": [
            "Downloaded utils.py\n",
            "Downloaded Cell2D.py\n"
          ]
        }
      ]
    },
    {
      "cell_type": "code",
      "source": [
        "from utils import decorate, savefig\n",
        "# make a directory for figures\n",
        "!mkdir -p figs"
      ],
      "metadata": {
        "id": "Rs4-ZzHYDxmq"
      },
      "execution_count": null,
      "outputs": []
    },
    {
      "cell_type": "code",
      "source": [
        "try:\n",
        "    import empiricaldist\n",
        "except ImportError:\n",
        "    !pip install empiricaldist"
      ],
      "metadata": {
        "id": "JxE3A0WvDzi6",
        "colab": {
          "base_uri": "https://localhost:8080/"
        },
        "outputId": "a5410fca-f4d3-4301-99de-1af04dcb5f63"
      },
      "execution_count": null,
      "outputs": [
        {
          "output_type": "stream",
          "name": "stdout",
          "text": [
            "Collecting empiricaldist\n",
            "  Downloading empiricaldist-0.7.5.tar.gz (12 kB)\n",
            "  Installing build dependencies ... \u001b[?25l\u001b[?25hdone\n",
            "  Getting requirements to build wheel ... \u001b[?25l\u001b[?25hdone\n",
            "  Preparing metadata (pyproject.toml) ... \u001b[?25l\u001b[?25hdone\n",
            "Building wheels for collected packages: empiricaldist\n",
            "  Building wheel for empiricaldist (pyproject.toml) ... \u001b[?25l\u001b[?25hdone\n",
            "  Created wheel for empiricaldist: filename=empiricaldist-0.7.5-py3-none-any.whl size=12469 sha256=ef90bcc6afcec9d8240af48dd5bf873cf97961c3946f47170c49642b8d74df04\n",
            "  Stored in directory: /root/.cache/pip/wheels/0d/d0/ae/1ad4c7593703e55b2321b23b49d3b0d55261b59d7036d7045b\n",
            "Successfully built empiricaldist\n",
            "Installing collected packages: empiricaldist\n",
            "Successfully installed empiricaldist-0.7.5\n"
          ]
        }
      ]
    },
    {
      "cell_type": "markdown",
      "source": [
        "### !! Mesa documentation: https://mesa.readthedocs.io/stable/"
      ],
      "metadata": {
        "id": "iq93oc2cH3iz"
      }
    },
    {
      "cell_type": "code",
      "source": [
        "!pip install mesa\n",
        "\n",
        "from mesa import Agent, Model\n",
        "from mesa.time import RandomActivation\n",
        "from mesa.space import MultiGrid\n",
        "from mesa.datacollection import DataCollector\n"
      ],
      "metadata": {
        "colab": {
          "base_uri": "https://localhost:8080/"
        },
        "id": "FBKdvSruGOhE",
        "outputId": "3cadb905-9847-4eae-ed86-0d54fbf1315e"
      },
      "execution_count": null,
      "outputs": [
        {
          "output_type": "stream",
          "name": "stdout",
          "text": [
            "Requirement already satisfied: mesa in /usr/local/lib/python3.10/dist-packages (2.4.0)\n",
            "Requirement already satisfied: click in /usr/local/lib/python3.10/dist-packages (from mesa) (8.1.7)\n",
            "Requirement already satisfied: cookiecutter in /usr/local/lib/python3.10/dist-packages (from mesa) (2.6.0)\n",
            "Requirement already satisfied: matplotlib in /usr/local/lib/python3.10/dist-packages (from mesa) (3.7.1)\n",
            "Requirement already satisfied: mesa-viz-tornado>=0.1.3,~=0.1.0 in /usr/local/lib/python3.10/dist-packages (from mesa) (0.1.3)\n",
            "Requirement already satisfied: networkx in /usr/local/lib/python3.10/dist-packages (from mesa) (3.3)\n",
            "Requirement already satisfied: numpy in /usr/local/lib/python3.10/dist-packages (from mesa) (1.26.4)\n",
            "Requirement already satisfied: pandas in /usr/local/lib/python3.10/dist-packages (from mesa) (2.1.4)\n",
            "Requirement already satisfied: solara in /usr/local/lib/python3.10/dist-packages (from mesa) (1.39.0)\n",
            "Requirement already satisfied: tqdm in /usr/local/lib/python3.10/dist-packages (from mesa) (4.66.5)\n",
            "Requirement already satisfied: tornado in /usr/local/lib/python3.10/dist-packages (from mesa-viz-tornado>=0.1.3,~=0.1.0->mesa) (6.3.3)\n",
            "Requirement already satisfied: binaryornot>=0.4.4 in /usr/local/lib/python3.10/dist-packages (from cookiecutter->mesa) (0.4.4)\n",
            "Requirement already satisfied: Jinja2<4.0.0,>=2.7 in /usr/local/lib/python3.10/dist-packages (from cookiecutter->mesa) (3.1.4)\n",
            "Requirement already satisfied: pyyaml>=5.3.1 in /usr/local/lib/python3.10/dist-packages (from cookiecutter->mesa) (6.0.2)\n",
            "Requirement already satisfied: python-slugify>=4.0.0 in /usr/local/lib/python3.10/dist-packages (from cookiecutter->mesa) (8.0.4)\n",
            "Requirement already satisfied: requests>=2.23.0 in /usr/local/lib/python3.10/dist-packages (from cookiecutter->mesa) (2.32.3)\n",
            "Requirement already satisfied: arrow in /usr/local/lib/python3.10/dist-packages (from cookiecutter->mesa) (1.3.0)\n",
            "Requirement already satisfied: rich in /usr/local/lib/python3.10/dist-packages (from cookiecutter->mesa) (13.8.1)\n",
            "Requirement already satisfied: contourpy>=1.0.1 in /usr/local/lib/python3.10/dist-packages (from matplotlib->mesa) (1.3.0)\n",
            "Requirement already satisfied: cycler>=0.10 in /usr/local/lib/python3.10/dist-packages (from matplotlib->mesa) (0.12.1)\n",
            "Requirement already satisfied: fonttools>=4.22.0 in /usr/local/lib/python3.10/dist-packages (from matplotlib->mesa) (4.53.1)\n",
            "Requirement already satisfied: kiwisolver>=1.0.1 in /usr/local/lib/python3.10/dist-packages (from matplotlib->mesa) (1.4.7)\n",
            "Requirement already satisfied: packaging>=20.0 in /usr/local/lib/python3.10/dist-packages (from matplotlib->mesa) (24.1)\n",
            "Requirement already satisfied: pillow>=6.2.0 in /usr/local/lib/python3.10/dist-packages (from matplotlib->mesa) (10.4.0)\n",
            "Requirement already satisfied: pyparsing>=2.3.1 in /usr/local/lib/python3.10/dist-packages (from matplotlib->mesa) (3.1.4)\n",
            "Requirement already satisfied: python-dateutil>=2.7 in /usr/local/lib/python3.10/dist-packages (from matplotlib->mesa) (2.8.2)\n",
            "Requirement already satisfied: pytz>=2020.1 in /usr/local/lib/python3.10/dist-packages (from pandas->mesa) (2024.2)\n",
            "Requirement already satisfied: tzdata>=2022.1 in /usr/local/lib/python3.10/dist-packages (from pandas->mesa) (2024.1)\n",
            "Requirement already satisfied: solara-server==1.39.0 in /usr/local/lib/python3.10/dist-packages (from solara-server[dev,starlette]==1.39.0->solara->mesa) (1.39.0)\n",
            "Requirement already satisfied: solara-ui==1.39.0 in /usr/local/lib/python3.10/dist-packages (from solara-ui[all]==1.39.0->solara->mesa) (1.39.0)\n",
            "Requirement already satisfied: filelock in /usr/local/lib/python3.10/dist-packages (from solara-server==1.39.0->solara-server[dev,starlette]==1.39.0->solara->mesa) (3.16.1)\n",
            "Requirement already satisfied: ipykernel in /usr/local/lib/python3.10/dist-packages (from solara-server==1.39.0->solara-server[dev,starlette]==1.39.0->solara->mesa) (5.5.6)\n",
            "Requirement already satisfied: jupyter-client>=7.0.0 in /usr/local/lib/python3.10/dist-packages (from solara-server==1.39.0->solara-server[dev,starlette]==1.39.0->solara->mesa) (7.4.9)\n",
            "Requirement already satisfied: nbformat in /usr/local/lib/python3.10/dist-packages (from solara-server==1.39.0->solara-server[dev,starlette]==1.39.0->solara->mesa) (5.10.4)\n",
            "Requirement already satisfied: rich-click in /usr/local/lib/python3.10/dist-packages (from solara-server==1.39.0->solara-server[dev,starlette]==1.39.0->solara->mesa) (1.8.3)\n",
            "Requirement already satisfied: starlette in /usr/local/lib/python3.10/dist-packages (from solara-server[dev,starlette]==1.39.0->solara->mesa) (0.39.0)\n",
            "Requirement already satisfied: uvicorn in /usr/local/lib/python3.10/dist-packages (from solara-server[dev,starlette]==1.39.0->solara->mesa) (0.30.6)\n",
            "Requirement already satisfied: websockets in /usr/local/lib/python3.10/dist-packages (from solara-server[dev,starlette]==1.39.0->solara->mesa) (13.1)\n",
            "Requirement already satisfied: watchdog in /usr/local/lib/python3.10/dist-packages (from solara-server[dev,starlette]==1.39.0->solara->mesa) (5.0.2)\n",
            "Requirement already satisfied: watchfiles in /usr/local/lib/python3.10/dist-packages (from solara-server[dev,starlette]==1.39.0->solara->mesa) (0.24.0)\n",
            "Requirement already satisfied: humanize in /usr/local/lib/python3.10/dist-packages (from solara-ui==1.39.0->solara-ui[all]==1.39.0->solara->mesa) (4.10.0)\n",
            "Requirement already satisfied: ipyvue>=1.9.0 in /usr/local/lib/python3.10/dist-packages (from solara-ui==1.39.0->solara-ui[all]==1.39.0->solara->mesa) (1.11.1)\n",
            "Requirement already satisfied: ipyvuetify>=1.6.10 in /usr/local/lib/python3.10/dist-packages (from solara-ui==1.39.0->solara-ui[all]==1.39.0->solara->mesa) (1.10.0)\n",
            "Requirement already satisfied: ipywidgets>=7.7 in /usr/local/lib/python3.10/dist-packages (from solara-ui==1.39.0->solara-ui[all]==1.39.0->solara->mesa) (7.7.1)\n",
            "Requirement already satisfied: reacton>=1.7.1 in /usr/local/lib/python3.10/dist-packages (from solara-ui==1.39.0->solara-ui[all]==1.39.0->solara->mesa) (1.8.3)\n",
            "Requirement already satisfied: chardet>=3.0.2 in /usr/local/lib/python3.10/dist-packages (from binaryornot>=0.4.4->cookiecutter->mesa) (5.2.0)\n",
            "Requirement already satisfied: MarkupSafe>=2.0 in /usr/local/lib/python3.10/dist-packages (from Jinja2<4.0.0,>=2.7->cookiecutter->mesa) (2.1.5)\n",
            "Requirement already satisfied: six>=1.5 in /usr/local/lib/python3.10/dist-packages (from python-dateutil>=2.7->matplotlib->mesa) (1.16.0)\n",
            "Requirement already satisfied: text-unidecode>=1.3 in /usr/local/lib/python3.10/dist-packages (from python-slugify>=4.0.0->cookiecutter->mesa) (1.3)\n",
            "Requirement already satisfied: charset-normalizer<4,>=2 in /usr/local/lib/python3.10/dist-packages (from requests>=2.23.0->cookiecutter->mesa) (3.3.2)\n",
            "Requirement already satisfied: idna<4,>=2.5 in /usr/local/lib/python3.10/dist-packages (from requests>=2.23.0->cookiecutter->mesa) (3.10)\n",
            "Requirement already satisfied: urllib3<3,>=1.21.1 in /usr/local/lib/python3.10/dist-packages (from requests>=2.23.0->cookiecutter->mesa) (2.2.3)\n",
            "Requirement already satisfied: certifi>=2017.4.17 in /usr/local/lib/python3.10/dist-packages (from requests>=2.23.0->cookiecutter->mesa) (2024.8.30)\n",
            "Requirement already satisfied: types-python-dateutil>=2.8.10 in /usr/local/lib/python3.10/dist-packages (from arrow->cookiecutter->mesa) (2.9.0.20240906)\n",
            "Requirement already satisfied: markdown-it-py>=2.2.0 in /usr/local/lib/python3.10/dist-packages (from rich->cookiecutter->mesa) (3.0.0)\n",
            "Requirement already satisfied: pygments<3.0.0,>=2.13.0 in /usr/local/lib/python3.10/dist-packages (from rich->cookiecutter->mesa) (2.18.0)\n",
            "Requirement already satisfied: ipython-genutils~=0.2.0 in /usr/local/lib/python3.10/dist-packages (from ipywidgets>=7.7->solara-ui==1.39.0->solara-ui[all]==1.39.0->solara->mesa) (0.2.0)\n",
            "Requirement already satisfied: traitlets>=4.3.1 in /usr/local/lib/python3.10/dist-packages (from ipywidgets>=7.7->solara-ui==1.39.0->solara-ui[all]==1.39.0->solara->mesa) (5.7.1)\n",
            "Requirement already satisfied: widgetsnbextension~=3.6.0 in /usr/local/lib/python3.10/dist-packages (from ipywidgets>=7.7->solara-ui==1.39.0->solara-ui[all]==1.39.0->solara->mesa) (3.6.9)\n",
            "Requirement already satisfied: ipython>=4.0.0 in /usr/local/lib/python3.10/dist-packages (from ipywidgets>=7.7->solara-ui==1.39.0->solara-ui[all]==1.39.0->solara->mesa) (7.34.0)\n",
            "Requirement already satisfied: jupyterlab-widgets>=1.0.0 in /usr/local/lib/python3.10/dist-packages (from ipywidgets>=7.7->solara-ui==1.39.0->solara-ui[all]==1.39.0->solara->mesa) (3.0.13)\n",
            "Requirement already satisfied: entrypoints in /usr/local/lib/python3.10/dist-packages (from jupyter-client>=7.0.0->solara-server==1.39.0->solara-server[dev,starlette]==1.39.0->solara->mesa) (0.4)\n",
            "Requirement already satisfied: jupyter-core>=4.9.2 in /usr/local/lib/python3.10/dist-packages (from jupyter-client>=7.0.0->solara-server==1.39.0->solara-server[dev,starlette]==1.39.0->solara->mesa) (5.7.2)\n",
            "Requirement already satisfied: nest-asyncio>=1.5.4 in /usr/local/lib/python3.10/dist-packages (from jupyter-client>=7.0.0->solara-server==1.39.0->solara-server[dev,starlette]==1.39.0->solara->mesa) (1.6.0)\n",
            "Requirement already satisfied: pyzmq>=23.0 in /usr/local/lib/python3.10/dist-packages (from jupyter-client>=7.0.0->solara-server==1.39.0->solara-server[dev,starlette]==1.39.0->solara->mesa) (24.0.1)\n",
            "Requirement already satisfied: mdurl~=0.1 in /usr/local/lib/python3.10/dist-packages (from markdown-it-py>=2.2.0->rich->cookiecutter->mesa) (0.1.2)\n",
            "Requirement already satisfied: typing-extensions>=4.1.1 in /usr/local/lib/python3.10/dist-packages (from reacton>=1.7.1->solara-ui==1.39.0->solara-ui[all]==1.39.0->solara->mesa) (4.12.2)\n",
            "Requirement already satisfied: fastjsonschema>=2.15 in /usr/local/lib/python3.10/dist-packages (from nbformat->solara-server==1.39.0->solara-server[dev,starlette]==1.39.0->solara->mesa) (2.20.0)\n",
            "Requirement already satisfied: jsonschema>=2.6 in /usr/local/lib/python3.10/dist-packages (from nbformat->solara-server==1.39.0->solara-server[dev,starlette]==1.39.0->solara->mesa) (4.23.0)\n",
            "Requirement already satisfied: cachetools in /usr/local/lib/python3.10/dist-packages (from solara-ui==1.39.0->solara-ui[all]==1.39.0->solara->mesa) (5.5.0)\n",
            "Requirement already satisfied: markdown in /usr/local/lib/python3.10/dist-packages (from solara-ui==1.39.0->solara-ui[all]==1.39.0->solara->mesa) (3.7)\n",
            "Requirement already satisfied: pymdown-extensions in /usr/local/lib/python3.10/dist-packages (from solara-ui==1.39.0->solara-ui[all]==1.39.0->solara->mesa) (10.10.1)\n",
            "Requirement already satisfied: anyio<5,>=3.4.0 in /usr/local/lib/python3.10/dist-packages (from starlette->solara-server[dev,starlette]==1.39.0->solara->mesa) (3.7.1)\n",
            "Requirement already satisfied: h11>=0.8 in /usr/local/lib/python3.10/dist-packages (from uvicorn->solara-server[dev,starlette]==1.39.0->solara->mesa) (0.14.0)\n",
            "Requirement already satisfied: sniffio>=1.1 in /usr/local/lib/python3.10/dist-packages (from anyio<5,>=3.4.0->starlette->solara-server[dev,starlette]==1.39.0->solara->mesa) (1.3.1)\n",
            "Requirement already satisfied: exceptiongroup in /usr/local/lib/python3.10/dist-packages (from anyio<5,>=3.4.0->starlette->solara-server[dev,starlette]==1.39.0->solara->mesa) (1.2.2)\n",
            "Requirement already satisfied: setuptools>=18.5 in /usr/local/lib/python3.10/dist-packages (from ipython>=4.0.0->ipywidgets>=7.7->solara-ui==1.39.0->solara-ui[all]==1.39.0->solara->mesa) (71.0.4)\n",
            "Requirement already satisfied: jedi>=0.16 in /usr/local/lib/python3.10/dist-packages (from ipython>=4.0.0->ipywidgets>=7.7->solara-ui==1.39.0->solara-ui[all]==1.39.0->solara->mesa) (0.19.1)\n",
            "Requirement already satisfied: decorator in /usr/local/lib/python3.10/dist-packages (from ipython>=4.0.0->ipywidgets>=7.7->solara-ui==1.39.0->solara-ui[all]==1.39.0->solara->mesa) (4.4.2)\n",
            "Requirement already satisfied: pickleshare in /usr/local/lib/python3.10/dist-packages (from ipython>=4.0.0->ipywidgets>=7.7->solara-ui==1.39.0->solara-ui[all]==1.39.0->solara->mesa) (0.7.5)\n",
            "Requirement already satisfied: prompt-toolkit!=3.0.0,!=3.0.1,<3.1.0,>=2.0.0 in /usr/local/lib/python3.10/dist-packages (from ipython>=4.0.0->ipywidgets>=7.7->solara-ui==1.39.0->solara-ui[all]==1.39.0->solara->mesa) (3.0.47)\n",
            "Requirement already satisfied: backcall in /usr/local/lib/python3.10/dist-packages (from ipython>=4.0.0->ipywidgets>=7.7->solara-ui==1.39.0->solara-ui[all]==1.39.0->solara->mesa) (0.2.0)\n",
            "Requirement already satisfied: matplotlib-inline in /usr/local/lib/python3.10/dist-packages (from ipython>=4.0.0->ipywidgets>=7.7->solara-ui==1.39.0->solara-ui[all]==1.39.0->solara->mesa) (0.1.7)\n",
            "Requirement already satisfied: pexpect>4.3 in /usr/local/lib/python3.10/dist-packages (from ipython>=4.0.0->ipywidgets>=7.7->solara-ui==1.39.0->solara-ui[all]==1.39.0->solara->mesa) (4.9.0)\n",
            "Requirement already satisfied: attrs>=22.2.0 in /usr/local/lib/python3.10/dist-packages (from jsonschema>=2.6->nbformat->solara-server==1.39.0->solara-server[dev,starlette]==1.39.0->solara->mesa) (24.2.0)\n",
            "Requirement already satisfied: jsonschema-specifications>=2023.03.6 in /usr/local/lib/python3.10/dist-packages (from jsonschema>=2.6->nbformat->solara-server==1.39.0->solara-server[dev,starlette]==1.39.0->solara->mesa) (2023.12.1)\n",
            "Requirement already satisfied: referencing>=0.28.4 in /usr/local/lib/python3.10/dist-packages (from jsonschema>=2.6->nbformat->solara-server==1.39.0->solara-server[dev,starlette]==1.39.0->solara->mesa) (0.35.1)\n",
            "Requirement already satisfied: rpds-py>=0.7.1 in /usr/local/lib/python3.10/dist-packages (from jsonschema>=2.6->nbformat->solara-server==1.39.0->solara-server[dev,starlette]==1.39.0->solara->mesa) (0.20.0)\n",
            "Requirement already satisfied: platformdirs>=2.5 in /usr/local/lib/python3.10/dist-packages (from jupyter-core>=4.9.2->jupyter-client>=7.0.0->solara-server==1.39.0->solara-server[dev,starlette]==1.39.0->solara->mesa) (4.3.6)\n",
            "Requirement already satisfied: notebook>=4.4.1 in /usr/local/lib/python3.10/dist-packages (from widgetsnbextension~=3.6.0->ipywidgets>=7.7->solara-ui==1.39.0->solara-ui[all]==1.39.0->solara->mesa) (6.5.5)\n",
            "Requirement already satisfied: parso<0.9.0,>=0.8.3 in /usr/local/lib/python3.10/dist-packages (from jedi>=0.16->ipython>=4.0.0->ipywidgets>=7.7->solara-ui==1.39.0->solara-ui[all]==1.39.0->solara->mesa) (0.8.4)\n",
            "Requirement already satisfied: argon2-cffi in /usr/local/lib/python3.10/dist-packages (from notebook>=4.4.1->widgetsnbextension~=3.6.0->ipywidgets>=7.7->solara-ui==1.39.0->solara-ui[all]==1.39.0->solara->mesa) (23.1.0)\n",
            "Requirement already satisfied: nbconvert>=5 in /usr/local/lib/python3.10/dist-packages (from notebook>=4.4.1->widgetsnbextension~=3.6.0->ipywidgets>=7.7->solara-ui==1.39.0->solara-ui[all]==1.39.0->solara->mesa) (6.5.4)\n",
            "Requirement already satisfied: Send2Trash>=1.8.0 in /usr/local/lib/python3.10/dist-packages (from notebook>=4.4.1->widgetsnbextension~=3.6.0->ipywidgets>=7.7->solara-ui==1.39.0->solara-ui[all]==1.39.0->solara->mesa) (1.8.3)\n",
            "Requirement already satisfied: terminado>=0.8.3 in /usr/local/lib/python3.10/dist-packages (from notebook>=4.4.1->widgetsnbextension~=3.6.0->ipywidgets>=7.7->solara-ui==1.39.0->solara-ui[all]==1.39.0->solara->mesa) (0.18.1)\n",
            "Requirement already satisfied: prometheus-client in /usr/local/lib/python3.10/dist-packages (from notebook>=4.4.1->widgetsnbextension~=3.6.0->ipywidgets>=7.7->solara-ui==1.39.0->solara-ui[all]==1.39.0->solara->mesa) (0.21.0)\n",
            "Requirement already satisfied: nbclassic>=0.4.7 in /usr/local/lib/python3.10/dist-packages (from notebook>=4.4.1->widgetsnbextension~=3.6.0->ipywidgets>=7.7->solara-ui==1.39.0->solara-ui[all]==1.39.0->solara->mesa) (1.1.0)\n",
            "Requirement already satisfied: ptyprocess>=0.5 in /usr/local/lib/python3.10/dist-packages (from pexpect>4.3->ipython>=4.0.0->ipywidgets>=7.7->solara-ui==1.39.0->solara-ui[all]==1.39.0->solara->mesa) (0.7.0)\n",
            "Requirement already satisfied: wcwidth in /usr/local/lib/python3.10/dist-packages (from prompt-toolkit!=3.0.0,!=3.0.1,<3.1.0,>=2.0.0->ipython>=4.0.0->ipywidgets>=7.7->solara-ui==1.39.0->solara-ui[all]==1.39.0->solara->mesa) (0.2.13)\n",
            "Requirement already satisfied: notebook-shim>=0.2.3 in /usr/local/lib/python3.10/dist-packages (from nbclassic>=0.4.7->notebook>=4.4.1->widgetsnbextension~=3.6.0->ipywidgets>=7.7->solara-ui==1.39.0->solara-ui[all]==1.39.0->solara->mesa) (0.2.4)\n",
            "Requirement already satisfied: lxml in /usr/local/lib/python3.10/dist-packages (from nbconvert>=5->notebook>=4.4.1->widgetsnbextension~=3.6.0->ipywidgets>=7.7->solara-ui==1.39.0->solara-ui[all]==1.39.0->solara->mesa) (4.9.4)\n",
            "Requirement already satisfied: beautifulsoup4 in /usr/local/lib/python3.10/dist-packages (from nbconvert>=5->notebook>=4.4.1->widgetsnbextension~=3.6.0->ipywidgets>=7.7->solara-ui==1.39.0->solara-ui[all]==1.39.0->solara->mesa) (4.12.3)\n",
            "Requirement already satisfied: bleach in /usr/local/lib/python3.10/dist-packages (from nbconvert>=5->notebook>=4.4.1->widgetsnbextension~=3.6.0->ipywidgets>=7.7->solara-ui==1.39.0->solara-ui[all]==1.39.0->solara->mesa) (6.1.0)\n",
            "Requirement already satisfied: defusedxml in /usr/local/lib/python3.10/dist-packages (from nbconvert>=5->notebook>=4.4.1->widgetsnbextension~=3.6.0->ipywidgets>=7.7->solara-ui==1.39.0->solara-ui[all]==1.39.0->solara->mesa) (0.7.1)\n",
            "Requirement already satisfied: jupyterlab-pygments in /usr/local/lib/python3.10/dist-packages (from nbconvert>=5->notebook>=4.4.1->widgetsnbextension~=3.6.0->ipywidgets>=7.7->solara-ui==1.39.0->solara-ui[all]==1.39.0->solara->mesa) (0.3.0)\n",
            "Requirement already satisfied: mistune<2,>=0.8.1 in /usr/local/lib/python3.10/dist-packages (from nbconvert>=5->notebook>=4.4.1->widgetsnbextension~=3.6.0->ipywidgets>=7.7->solara-ui==1.39.0->solara-ui[all]==1.39.0->solara->mesa) (0.8.4)\n",
            "Requirement already satisfied: nbclient>=0.5.0 in /usr/local/lib/python3.10/dist-packages (from nbconvert>=5->notebook>=4.4.1->widgetsnbextension~=3.6.0->ipywidgets>=7.7->solara-ui==1.39.0->solara-ui[all]==1.39.0->solara->mesa) (0.10.0)\n",
            "Requirement already satisfied: pandocfilters>=1.4.1 in /usr/local/lib/python3.10/dist-packages (from nbconvert>=5->notebook>=4.4.1->widgetsnbextension~=3.6.0->ipywidgets>=7.7->solara-ui==1.39.0->solara-ui[all]==1.39.0->solara->mesa) (1.5.1)\n",
            "Requirement already satisfied: tinycss2 in /usr/local/lib/python3.10/dist-packages (from nbconvert>=5->notebook>=4.4.1->widgetsnbextension~=3.6.0->ipywidgets>=7.7->solara-ui==1.39.0->solara-ui[all]==1.39.0->solara->mesa) (1.3.0)\n",
            "Requirement already satisfied: argon2-cffi-bindings in /usr/local/lib/python3.10/dist-packages (from argon2-cffi->notebook>=4.4.1->widgetsnbextension~=3.6.0->ipywidgets>=7.7->solara-ui==1.39.0->solara-ui[all]==1.39.0->solara->mesa) (21.2.0)\n",
            "Requirement already satisfied: jupyter-server<3,>=1.8 in /usr/local/lib/python3.10/dist-packages (from notebook-shim>=0.2.3->nbclassic>=0.4.7->notebook>=4.4.1->widgetsnbextension~=3.6.0->ipywidgets>=7.7->solara-ui==1.39.0->solara-ui[all]==1.39.0->solara->mesa) (1.24.0)\n",
            "Requirement already satisfied: cffi>=1.0.1 in /usr/local/lib/python3.10/dist-packages (from argon2-cffi-bindings->argon2-cffi->notebook>=4.4.1->widgetsnbextension~=3.6.0->ipywidgets>=7.7->solara-ui==1.39.0->solara-ui[all]==1.39.0->solara->mesa) (1.17.1)\n",
            "Requirement already satisfied: soupsieve>1.2 in /usr/local/lib/python3.10/dist-packages (from beautifulsoup4->nbconvert>=5->notebook>=4.4.1->widgetsnbextension~=3.6.0->ipywidgets>=7.7->solara-ui==1.39.0->solara-ui[all]==1.39.0->solara->mesa) (2.6)\n",
            "Requirement already satisfied: webencodings in /usr/local/lib/python3.10/dist-packages (from bleach->nbconvert>=5->notebook>=4.4.1->widgetsnbextension~=3.6.0->ipywidgets>=7.7->solara-ui==1.39.0->solara-ui[all]==1.39.0->solara->mesa) (0.5.1)\n",
            "Requirement already satisfied: pycparser in /usr/local/lib/python3.10/dist-packages (from cffi>=1.0.1->argon2-cffi-bindings->argon2-cffi->notebook>=4.4.1->widgetsnbextension~=3.6.0->ipywidgets>=7.7->solara-ui==1.39.0->solara-ui[all]==1.39.0->solara->mesa) (2.22)\n",
            "Requirement already satisfied: websocket-client in /usr/local/lib/python3.10/dist-packages (from jupyter-server<3,>=1.8->notebook-shim>=0.2.3->nbclassic>=0.4.7->notebook>=4.4.1->widgetsnbextension~=3.6.0->ipywidgets>=7.7->solara-ui==1.39.0->solara-ui[all]==1.39.0->solara->mesa) (1.8.0)\n"
          ]
        }
      ]
    },
    {
      "cell_type": "markdown",
      "source": [
        "# Black Death"
      ],
      "metadata": {
        "id": "fqn466ekHZBQ"
      }
    },
    {
      "cell_type": "code",
      "source": [
        "class PlagueAgent(Agent):\n",
        "  def __init__(self, unique_id, model):\n",
        "    super().__init__(unique_id, model)\n",
        "    self.health_status = \"Susceptible\"\n",
        "    self.age = self.random.randrange(1,80)\n",
        "    self.days_infected = 0\n",
        "    self.recovered = False\n",
        "    self.dead = False\n",
        "\n",
        "  def step(self):\n",
        "    if self.health_status == \"Infected\":\n",
        "      self.days_infected += 1\n",
        "\n",
        "      if self.days_infected >= 4:\n",
        "        self.check_recovery_or_death()\n",
        "\n",
        "    self.move()\n",
        "\n",
        "  def check_recovery_or_death(self):\n",
        "    if self.age < 30:\n",
        "      recovery_chance = 0.6\n",
        "    elif 30 <= self.age <= 50:\n",
        "      recovery_chance = 0.4\n",
        "    else:\n",
        "      recovery_chance = 0.2\n",
        "\n",
        "    if self.age < 30:\n",
        "      death_chance = 0.2\n",
        "    elif 30 <= self.age <= 50:\n",
        "      death_chance = 0.3\n",
        "    else:\n",
        "      death_chance = 0.5\n",
        "\n",
        "    if not self.recovered and not self.dead:\n",
        "      if self.random.random() < recovery_chance:\n",
        "        self.recovered = True\n",
        "        self.health_status = \"Recovered\"\n",
        "\n",
        "    if not self.recovered and not self.dead:\n",
        "      if self.random.random() < death_chance:\n",
        "        self.dead = True\n",
        "        self.health_status = \"Dead\"\n",
        "\n",
        "  def move(self):\n",
        "    possible_steps = self.model.grid.get_neighbourhood(\n",
        "        self.pos,\n",
        "        moore=True,\n",
        "        include_center=True\n",
        "    )\n",
        "\n",
        "    new_position = self.random.choice(possible_steps)\n",
        "    self.model.grid.move_agent(self, new_position)\n",
        "\n",
        "\n",
        "class PlagueModel(Model):\n",
        "  def __init__(self, width, height, num_agents):\n",
        "        super().__init__()\n",
        "        self.num_agents = num_agents\n",
        "        self.height = height\n",
        "        self.width = width\n",
        "        self.grid = MultiGrid(width, height, True)\n",
        "        self.schedule = RandomActivation(self)\n",
        "\n",
        "        self.create_agents()\n",
        "\n",
        "  def create_agents(self):\n",
        "        for i in range(self.num_agents):\n",
        "          agent = PlagueAgent(i, self)\n",
        "          self.schedule.add(agent)\n",
        "\n",
        "          x.self.random.randrange(self.grid.width)\n",
        "          y.self.random.randrange(self.grid.height)\n",
        "          self.grid.place_agent(agent, (x,y))\n",
        "\n",
        "  def step(self):\n",
        "    self.schedule.step()\n",
        "\n",
        "  def plot_agents():\n",
        "    pass"
      ],
      "metadata": {
        "id": "iq2lytXIHfEg"
      },
      "execution_count": null,
      "outputs": []
    }
  ]
}