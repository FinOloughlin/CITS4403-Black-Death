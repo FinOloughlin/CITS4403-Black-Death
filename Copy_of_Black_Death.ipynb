{
  "nbformat": 4,
  "nbformat_minor": 0,
  "metadata": {
    "colab": {
      "provenance": [],
      "toc_visible": true,
      "collapsed_sections": [
        "sHK7Xz3HDrXK"
      ],
      "authorship_tag": "ABX9TyMGCP0ain2LECXQ3b5cdjuY",
      "include_colab_link": true
    },
    "kernelspec": {
      "name": "python3",
      "display_name": "Python 3"
    },
    "language_info": {
      "name": "python"
    }
  },
  "cells": [
    {
      "cell_type": "markdown",
      "metadata": {
        "id": "view-in-github",
        "colab_type": "text"
      },
      "source": [
        "<a href=\"https://colab.research.google.com/github/FinOloughlin/CITS4403-Black-Death/blob/main/Copy_of_Black_Death.ipynb\" target=\"_parent\"><img src=\"https://colab.research.google.com/assets/colab-badge.svg\" alt=\"Open In Colab\"/></a>"
      ]
    },
    {
      "cell_type": "markdown",
      "source": [
        "# Setup"
      ],
      "metadata": {
        "id": "sHK7Xz3HDrXK"
      }
    },
    {
      "cell_type": "code",
      "execution_count": 2,
      "metadata": {
        "id": "FLO-nuEqzU9q"
      },
      "outputs": [],
      "source": [
        "import matplotlib.pyplot as plt\n",
        "import matplotlib.animation as animation\n",
        "import matplotlib.colors as mcolors\n",
        "import numpy as np"
      ]
    },
    {
      "cell_type": "code",
      "source": [
        "from os.path import basename, exists\n",
        "\n",
        "def download(url):\n",
        "    filename = basename(url)\n",
        "    if not exists(filename):\n",
        "        from urllib.request import urlretrieve\n",
        "        local, _ = urlretrieve(url, filename)\n",
        "        print('Downloaded ' + local)\n",
        "\n",
        "download('https://github.com/AllenDowney/ThinkComplexity2/raw/master/notebooks/utils.py')\n",
        "download('https://github.com/AllenDowney/ThinkComplexity2/raw/master/notebooks/Cell2D.py')"
      ],
      "metadata": {
        "id": "u_ChS5z1DviX",
        "colab": {
          "base_uri": "https://localhost:8080/"
        },
        "outputId": "7bcd5abb-fe0b-4188-8a59-5078353b02c1"
      },
      "execution_count": 3,
      "outputs": [
        {
          "output_type": "stream",
          "name": "stdout",
          "text": [
            "Downloaded utils.py\n",
            "Downloaded Cell2D.py\n"
          ]
        }
      ]
    },
    {
      "cell_type": "code",
      "source": [
        "from utils import decorate, savefig\n",
        "# make a directory for figures\n",
        "!mkdir -p figs"
      ],
      "metadata": {
        "id": "Rs4-ZzHYDxmq"
      },
      "execution_count": 4,
      "outputs": []
    },
    {
      "cell_type": "code",
      "source": [
        "try:\n",
        "    import empiricaldist\n",
        "except ImportError:\n",
        "    !pip install empiricaldist"
      ],
      "metadata": {
        "id": "JxE3A0WvDzi6",
        "colab": {
          "base_uri": "https://localhost:8080/"
        },
        "outputId": "fcabfae1-784c-432f-8b54-72744fd188a7"
      },
      "execution_count": 5,
      "outputs": [
        {
          "output_type": "stream",
          "name": "stdout",
          "text": [
            "Collecting empiricaldist\n",
            "  Downloading empiricaldist-0.7.5.tar.gz (12 kB)\n",
            "  Installing build dependencies ... \u001b[?25l\u001b[?25hdone\n",
            "  Getting requirements to build wheel ... \u001b[?25l\u001b[?25hdone\n",
            "  Preparing metadata (pyproject.toml) ... \u001b[?25l\u001b[?25hdone\n",
            "Building wheels for collected packages: empiricaldist\n",
            "  Building wheel for empiricaldist (pyproject.toml) ... \u001b[?25l\u001b[?25hdone\n",
            "  Created wheel for empiricaldist: filename=empiricaldist-0.7.5-py3-none-any.whl size=12469 sha256=b45a2e128c60dfdf6e16297a4e3aaa41319f63996ba9e7b3a06b332c367c058c\n",
            "  Stored in directory: /root/.cache/pip/wheels/0d/d0/ae/1ad4c7593703e55b2321b23b49d3b0d55261b59d7036d7045b\n",
            "Successfully built empiricaldist\n",
            "Installing collected packages: empiricaldist\n",
            "Successfully installed empiricaldist-0.7.5\n"
          ]
        }
      ]
    },
    {
      "cell_type": "markdown",
      "source": [
        "### !! Mesa documentation: https://mesa.readthedocs.io/stable/"
      ],
      "metadata": {
        "id": "iq93oc2cH3iz"
      }
    },
    {
      "cell_type": "code",
      "source": [
        "!pip install mesa\n",
        "\n",
        "from mesa import Agent, Model\n",
        "from mesa.time import RandomActivation\n",
        "from mesa.space import MultiGrid\n",
        "from mesa.datacollection import DataCollector\n"
      ],
      "metadata": {
        "colab": {
          "base_uri": "https://localhost:8080/"
        },
        "id": "FBKdvSruGOhE",
        "outputId": "397271bd-8f25-45a2-80a7-acd7557ced16"
      },
      "execution_count": 6,
      "outputs": [
        {
          "output_type": "stream",
          "name": "stdout",
          "text": [
            "Collecting mesa\n",
            "  Downloading mesa-2.4.0-py3-none-any.whl.metadata (8.3 kB)\n",
            "Requirement already satisfied: click in /usr/local/lib/python3.10/dist-packages (from mesa) (8.1.7)\n",
            "Collecting cookiecutter (from mesa)\n",
            "  Downloading cookiecutter-2.6.0-py3-none-any.whl.metadata (7.3 kB)\n",
            "Requirement already satisfied: matplotlib in /usr/local/lib/python3.10/dist-packages (from mesa) (3.7.1)\n",
            "Collecting mesa-viz-tornado>=0.1.3,~=0.1.0 (from mesa)\n",
            "  Downloading Mesa_Viz_Tornado-0.1.3-py3-none-any.whl.metadata (1.3 kB)\n",
            "Requirement already satisfied: networkx in /usr/local/lib/python3.10/dist-packages (from mesa) (3.3)\n",
            "Requirement already satisfied: numpy in /usr/local/lib/python3.10/dist-packages (from mesa) (1.26.4)\n",
            "Requirement already satisfied: pandas in /usr/local/lib/python3.10/dist-packages (from mesa) (2.2.2)\n",
            "Collecting solara (from mesa)\n",
            "  Downloading solara-1.39.0-py2.py3-none-any.whl.metadata (8.9 kB)\n",
            "Requirement already satisfied: tqdm in /usr/local/lib/python3.10/dist-packages (from mesa) (4.66.5)\n",
            "Requirement already satisfied: tornado in /usr/local/lib/python3.10/dist-packages (from mesa-viz-tornado>=0.1.3,~=0.1.0->mesa) (6.3.3)\n",
            "Collecting binaryornot>=0.4.4 (from cookiecutter->mesa)\n",
            "  Downloading binaryornot-0.4.4-py2.py3-none-any.whl.metadata (6.0 kB)\n",
            "Requirement already satisfied: Jinja2<4.0.0,>=2.7 in /usr/local/lib/python3.10/dist-packages (from cookiecutter->mesa) (3.1.4)\n",
            "Requirement already satisfied: pyyaml>=5.3.1 in /usr/local/lib/python3.10/dist-packages (from cookiecutter->mesa) (6.0.2)\n",
            "Requirement already satisfied: python-slugify>=4.0.0 in /usr/local/lib/python3.10/dist-packages (from cookiecutter->mesa) (8.0.4)\n",
            "Requirement already satisfied: requests>=2.23.0 in /usr/local/lib/python3.10/dist-packages (from cookiecutter->mesa) (2.32.3)\n",
            "Collecting arrow (from cookiecutter->mesa)\n",
            "  Downloading arrow-1.3.0-py3-none-any.whl.metadata (7.5 kB)\n",
            "Requirement already satisfied: rich in /usr/local/lib/python3.10/dist-packages (from cookiecutter->mesa) (13.8.1)\n",
            "Requirement already satisfied: contourpy>=1.0.1 in /usr/local/lib/python3.10/dist-packages (from matplotlib->mesa) (1.3.0)\n",
            "Requirement already satisfied: cycler>=0.10 in /usr/local/lib/python3.10/dist-packages (from matplotlib->mesa) (0.12.1)\n",
            "Requirement already satisfied: fonttools>=4.22.0 in /usr/local/lib/python3.10/dist-packages (from matplotlib->mesa) (4.54.1)\n",
            "Requirement already satisfied: kiwisolver>=1.0.1 in /usr/local/lib/python3.10/dist-packages (from matplotlib->mesa) (1.4.7)\n",
            "Requirement already satisfied: packaging>=20.0 in /usr/local/lib/python3.10/dist-packages (from matplotlib->mesa) (24.1)\n",
            "Requirement already satisfied: pillow>=6.2.0 in /usr/local/lib/python3.10/dist-packages (from matplotlib->mesa) (10.4.0)\n",
            "Requirement already satisfied: pyparsing>=2.3.1 in /usr/local/lib/python3.10/dist-packages (from matplotlib->mesa) (3.1.4)\n",
            "Requirement already satisfied: python-dateutil>=2.7 in /usr/local/lib/python3.10/dist-packages (from matplotlib->mesa) (2.8.2)\n",
            "Requirement already satisfied: pytz>=2020.1 in /usr/local/lib/python3.10/dist-packages (from pandas->mesa) (2024.2)\n",
            "Requirement already satisfied: tzdata>=2022.7 in /usr/local/lib/python3.10/dist-packages (from pandas->mesa) (2024.2)\n",
            "Collecting solara-server==1.39.0 (from solara-server[dev,starlette]==1.39.0->solara->mesa)\n",
            "  Downloading solara_server-1.39.0-py2.py3-none-any.whl.metadata (2.8 kB)\n",
            "Collecting solara-ui==1.39.0 (from solara-ui[all]==1.39.0->solara->mesa)\n",
            "  Downloading solara_ui-1.39.0-py2.py3-none-any.whl.metadata (7.3 kB)\n",
            "Requirement already satisfied: filelock in /usr/local/lib/python3.10/dist-packages (from solara-server==1.39.0->solara-server[dev,starlette]==1.39.0->solara->mesa) (3.16.1)\n",
            "Requirement already satisfied: ipykernel in /usr/local/lib/python3.10/dist-packages (from solara-server==1.39.0->solara-server[dev,starlette]==1.39.0->solara->mesa) (5.5.6)\n",
            "Collecting jupyter-client>=7.0.0 (from solara-server==1.39.0->solara-server[dev,starlette]==1.39.0->solara->mesa)\n",
            "  Downloading jupyter_client-8.6.3-py3-none-any.whl.metadata (8.3 kB)\n",
            "Requirement already satisfied: nbformat in /usr/local/lib/python3.10/dist-packages (from solara-server==1.39.0->solara-server[dev,starlette]==1.39.0->solara->mesa) (5.10.4)\n",
            "Collecting rich-click (from solara-server==1.39.0->solara-server[dev,starlette]==1.39.0->solara->mesa)\n",
            "  Downloading rich_click-1.8.3-py3-none-any.whl.metadata (7.9 kB)\n",
            "Collecting watchdog (from solara-server[dev,starlette]==1.39.0->solara->mesa)\n",
            "  Downloading watchdog-5.0.3-py3-none-manylinux2014_x86_64.whl.metadata (41 kB)\n",
            "\u001b[2K     \u001b[90m━━━━━━━━━━━━━━━━━━━━━━━━━━━━━━━━━━━━━━━━\u001b[0m \u001b[32m41.9/41.9 kB\u001b[0m \u001b[31m2.1 MB/s\u001b[0m eta \u001b[36m0:00:00\u001b[0m\n",
            "\u001b[?25hCollecting watchfiles (from solara-server[dev,starlette]==1.39.0->solara->mesa)\n",
            "  Downloading watchfiles-0.24.0-cp310-cp310-manylinux_2_17_x86_64.manylinux2014_x86_64.whl.metadata (4.9 kB)\n",
            "Collecting starlette (from solara-server[dev,starlette]==1.39.0->solara->mesa)\n",
            "  Downloading starlette-0.39.2-py3-none-any.whl.metadata (6.0 kB)\n",
            "Collecting uvicorn (from solara-server[dev,starlette]==1.39.0->solara->mesa)\n",
            "  Downloading uvicorn-0.31.0-py3-none-any.whl.metadata (6.6 kB)\n",
            "Collecting websockets (from solara-server[dev,starlette]==1.39.0->solara->mesa)\n",
            "  Downloading websockets-13.1-cp310-cp310-manylinux_2_5_x86_64.manylinux1_x86_64.manylinux_2_17_x86_64.manylinux2014_x86_64.whl.metadata (6.8 kB)\n",
            "Requirement already satisfied: humanize in /usr/local/lib/python3.10/dist-packages (from solara-ui==1.39.0->solara-ui[all]==1.39.0->solara->mesa) (4.10.0)\n",
            "Collecting ipyvue>=1.9.0 (from solara-ui==1.39.0->solara-ui[all]==1.39.0->solara->mesa)\n",
            "  Downloading ipyvue-1.11.1-py2.py3-none-any.whl.metadata (1.1 kB)\n",
            "Collecting ipyvuetify>=1.6.10 (from solara-ui==1.39.0->solara-ui[all]==1.39.0->solara->mesa)\n",
            "  Downloading ipyvuetify-1.10.0-py2.py3-none-any.whl.metadata (7.5 kB)\n",
            "Requirement already satisfied: ipywidgets>=7.7 in /usr/local/lib/python3.10/dist-packages (from solara-ui==1.39.0->solara-ui[all]==1.39.0->solara->mesa) (7.7.1)\n",
            "Collecting reacton>=1.7.1 (from solara-ui==1.39.0->solara-ui[all]==1.39.0->solara->mesa)\n",
            "  Downloading reacton-1.8.3-py2.py3-none-any.whl.metadata (2.9 kB)\n",
            "Requirement already satisfied: chardet>=3.0.2 in /usr/local/lib/python3.10/dist-packages (from binaryornot>=0.4.4->cookiecutter->mesa) (5.2.0)\n",
            "Requirement already satisfied: MarkupSafe>=2.0 in /usr/local/lib/python3.10/dist-packages (from Jinja2<4.0.0,>=2.7->cookiecutter->mesa) (2.1.5)\n",
            "Requirement already satisfied: six>=1.5 in /usr/local/lib/python3.10/dist-packages (from python-dateutil>=2.7->matplotlib->mesa) (1.16.0)\n",
            "Requirement already satisfied: text-unidecode>=1.3 in /usr/local/lib/python3.10/dist-packages (from python-slugify>=4.0.0->cookiecutter->mesa) (1.3)\n",
            "Requirement already satisfied: charset-normalizer<4,>=2 in /usr/local/lib/python3.10/dist-packages (from requests>=2.23.0->cookiecutter->mesa) (3.3.2)\n",
            "Requirement already satisfied: idna<4,>=2.5 in /usr/local/lib/python3.10/dist-packages (from requests>=2.23.0->cookiecutter->mesa) (3.10)\n",
            "Requirement already satisfied: urllib3<3,>=1.21.1 in /usr/local/lib/python3.10/dist-packages (from requests>=2.23.0->cookiecutter->mesa) (2.2.3)\n",
            "Requirement already satisfied: certifi>=2017.4.17 in /usr/local/lib/python3.10/dist-packages (from requests>=2.23.0->cookiecutter->mesa) (2024.8.30)\n",
            "Collecting types-python-dateutil>=2.8.10 (from arrow->cookiecutter->mesa)\n",
            "  Downloading types_python_dateutil-2.9.0.20240906-py3-none-any.whl.metadata (1.9 kB)\n",
            "Requirement already satisfied: markdown-it-py>=2.2.0 in /usr/local/lib/python3.10/dist-packages (from rich->cookiecutter->mesa) (3.0.0)\n",
            "Requirement already satisfied: pygments<3.0.0,>=2.13.0 in /usr/local/lib/python3.10/dist-packages (from rich->cookiecutter->mesa) (2.18.0)\n",
            "Requirement already satisfied: ipython-genutils~=0.2.0 in /usr/local/lib/python3.10/dist-packages (from ipywidgets>=7.7->solara-ui==1.39.0->solara-ui[all]==1.39.0->solara->mesa) (0.2.0)\n",
            "Requirement already satisfied: traitlets>=4.3.1 in /usr/local/lib/python3.10/dist-packages (from ipywidgets>=7.7->solara-ui==1.39.0->solara-ui[all]==1.39.0->solara->mesa) (5.7.1)\n",
            "Requirement already satisfied: widgetsnbextension~=3.6.0 in /usr/local/lib/python3.10/dist-packages (from ipywidgets>=7.7->solara-ui==1.39.0->solara-ui[all]==1.39.0->solara->mesa) (3.6.9)\n",
            "Requirement already satisfied: ipython>=4.0.0 in /usr/local/lib/python3.10/dist-packages (from ipywidgets>=7.7->solara-ui==1.39.0->solara-ui[all]==1.39.0->solara->mesa) (7.34.0)\n",
            "Requirement already satisfied: jupyterlab-widgets>=1.0.0 in /usr/local/lib/python3.10/dist-packages (from ipywidgets>=7.7->solara-ui==1.39.0->solara-ui[all]==1.39.0->solara->mesa) (3.0.13)\n",
            "Requirement already satisfied: jupyter-core!=5.0.*,>=4.12 in /usr/local/lib/python3.10/dist-packages (from jupyter-client>=7.0.0->solara-server==1.39.0->solara-server[dev,starlette]==1.39.0->solara->mesa) (5.7.2)\n",
            "Requirement already satisfied: pyzmq>=23.0 in /usr/local/lib/python3.10/dist-packages (from jupyter-client>=7.0.0->solara-server==1.39.0->solara-server[dev,starlette]==1.39.0->solara->mesa) (24.0.1)\n",
            "Requirement already satisfied: mdurl~=0.1 in /usr/local/lib/python3.10/dist-packages (from markdown-it-py>=2.2.0->rich->cookiecutter->mesa) (0.1.2)\n",
            "Requirement already satisfied: typing-extensions>=4.1.1 in /usr/local/lib/python3.10/dist-packages (from reacton>=1.7.1->solara-ui==1.39.0->solara-ui[all]==1.39.0->solara->mesa) (4.12.2)\n",
            "Requirement already satisfied: fastjsonschema>=2.15 in /usr/local/lib/python3.10/dist-packages (from nbformat->solara-server==1.39.0->solara-server[dev,starlette]==1.39.0->solara->mesa) (2.20.0)\n",
            "Requirement already satisfied: jsonschema>=2.6 in /usr/local/lib/python3.10/dist-packages (from nbformat->solara-server==1.39.0->solara-server[dev,starlette]==1.39.0->solara->mesa) (4.23.0)\n",
            "Requirement already satisfied: cachetools in /usr/local/lib/python3.10/dist-packages (from solara-ui==1.39.0->solara-ui[all]==1.39.0->solara->mesa) (5.5.0)\n",
            "Requirement already satisfied: markdown in /usr/local/lib/python3.10/dist-packages (from solara-ui==1.39.0->solara-ui[all]==1.39.0->solara->mesa) (3.7)\n",
            "Collecting pymdown-extensions (from solara-ui==1.39.0->solara-ui[all]==1.39.0->solara->mesa)\n",
            "  Downloading pymdown_extensions-10.11.2-py3-none-any.whl.metadata (3.0 kB)\n",
            "Requirement already satisfied: anyio<5,>=3.4.0 in /usr/local/lib/python3.10/dist-packages (from starlette->solara-server[dev,starlette]==1.39.0->solara->mesa) (3.7.1)\n",
            "Collecting h11>=0.8 (from uvicorn->solara-server[dev,starlette]==1.39.0->solara->mesa)\n",
            "  Downloading h11-0.14.0-py3-none-any.whl.metadata (8.2 kB)\n",
            "Requirement already satisfied: sniffio>=1.1 in /usr/local/lib/python3.10/dist-packages (from anyio<5,>=3.4.0->starlette->solara-server[dev,starlette]==1.39.0->solara->mesa) (1.3.1)\n",
            "Requirement already satisfied: exceptiongroup in /usr/local/lib/python3.10/dist-packages (from anyio<5,>=3.4.0->starlette->solara-server[dev,starlette]==1.39.0->solara->mesa) (1.2.2)\n",
            "Requirement already satisfied: setuptools>=18.5 in /usr/local/lib/python3.10/dist-packages (from ipython>=4.0.0->ipywidgets>=7.7->solara-ui==1.39.0->solara-ui[all]==1.39.0->solara->mesa) (71.0.4)\n",
            "Collecting jedi>=0.16 (from ipython>=4.0.0->ipywidgets>=7.7->solara-ui==1.39.0->solara-ui[all]==1.39.0->solara->mesa)\n",
            "  Using cached jedi-0.19.1-py2.py3-none-any.whl.metadata (22 kB)\n",
            "Requirement already satisfied: decorator in /usr/local/lib/python3.10/dist-packages (from ipython>=4.0.0->ipywidgets>=7.7->solara-ui==1.39.0->solara-ui[all]==1.39.0->solara->mesa) (4.4.2)\n",
            "Requirement already satisfied: pickleshare in /usr/local/lib/python3.10/dist-packages (from ipython>=4.0.0->ipywidgets>=7.7->solara-ui==1.39.0->solara-ui[all]==1.39.0->solara->mesa) (0.7.5)\n",
            "Requirement already satisfied: prompt-toolkit!=3.0.0,!=3.0.1,<3.1.0,>=2.0.0 in /usr/local/lib/python3.10/dist-packages (from ipython>=4.0.0->ipywidgets>=7.7->solara-ui==1.39.0->solara-ui[all]==1.39.0->solara->mesa) (3.0.48)\n",
            "Requirement already satisfied: backcall in /usr/local/lib/python3.10/dist-packages (from ipython>=4.0.0->ipywidgets>=7.7->solara-ui==1.39.0->solara-ui[all]==1.39.0->solara->mesa) (0.2.0)\n",
            "Requirement already satisfied: matplotlib-inline in /usr/local/lib/python3.10/dist-packages (from ipython>=4.0.0->ipywidgets>=7.7->solara-ui==1.39.0->solara-ui[all]==1.39.0->solara->mesa) (0.1.7)\n",
            "Requirement already satisfied: pexpect>4.3 in /usr/local/lib/python3.10/dist-packages (from ipython>=4.0.0->ipywidgets>=7.7->solara-ui==1.39.0->solara-ui[all]==1.39.0->solara->mesa) (4.9.0)\n",
            "Requirement already satisfied: attrs>=22.2.0 in /usr/local/lib/python3.10/dist-packages (from jsonschema>=2.6->nbformat->solara-server==1.39.0->solara-server[dev,starlette]==1.39.0->solara->mesa) (24.2.0)\n",
            "Requirement already satisfied: jsonschema-specifications>=2023.03.6 in /usr/local/lib/python3.10/dist-packages (from jsonschema>=2.6->nbformat->solara-server==1.39.0->solara-server[dev,starlette]==1.39.0->solara->mesa) (2023.12.1)\n",
            "Requirement already satisfied: referencing>=0.28.4 in /usr/local/lib/python3.10/dist-packages (from jsonschema>=2.6->nbformat->solara-server==1.39.0->solara-server[dev,starlette]==1.39.0->solara->mesa) (0.35.1)\n",
            "Requirement already satisfied: rpds-py>=0.7.1 in /usr/local/lib/python3.10/dist-packages (from jsonschema>=2.6->nbformat->solara-server==1.39.0->solara-server[dev,starlette]==1.39.0->solara->mesa) (0.20.0)\n",
            "Requirement already satisfied: platformdirs>=2.5 in /usr/local/lib/python3.10/dist-packages (from jupyter-core!=5.0.*,>=4.12->jupyter-client>=7.0.0->solara-server==1.39.0->solara-server[dev,starlette]==1.39.0->solara->mesa) (4.3.6)\n",
            "Requirement already satisfied: notebook>=4.4.1 in /usr/local/lib/python3.10/dist-packages (from widgetsnbextension~=3.6.0->ipywidgets>=7.7->solara-ui==1.39.0->solara-ui[all]==1.39.0->solara->mesa) (6.5.5)\n",
            "Requirement already satisfied: parso<0.9.0,>=0.8.3 in /usr/local/lib/python3.10/dist-packages (from jedi>=0.16->ipython>=4.0.0->ipywidgets>=7.7->solara-ui==1.39.0->solara-ui[all]==1.39.0->solara->mesa) (0.8.4)\n",
            "Requirement already satisfied: argon2-cffi in /usr/local/lib/python3.10/dist-packages (from notebook>=4.4.1->widgetsnbextension~=3.6.0->ipywidgets>=7.7->solara-ui==1.39.0->solara-ui[all]==1.39.0->solara->mesa) (23.1.0)\n",
            "Collecting jupyter-client>=7.0.0 (from solara-server==1.39.0->solara-server[dev,starlette]==1.39.0->solara->mesa)\n",
            "  Downloading jupyter_client-7.4.9-py3-none-any.whl.metadata (8.5 kB)\n",
            "Requirement already satisfied: nbconvert>=5 in /usr/local/lib/python3.10/dist-packages (from notebook>=4.4.1->widgetsnbextension~=3.6.0->ipywidgets>=7.7->solara-ui==1.39.0->solara-ui[all]==1.39.0->solara->mesa) (6.5.4)\n",
            "Requirement already satisfied: nest-asyncio>=1.5 in /usr/local/lib/python3.10/dist-packages (from notebook>=4.4.1->widgetsnbextension~=3.6.0->ipywidgets>=7.7->solara-ui==1.39.0->solara-ui[all]==1.39.0->solara->mesa) (1.6.0)\n",
            "Requirement already satisfied: Send2Trash>=1.8.0 in /usr/local/lib/python3.10/dist-packages (from notebook>=4.4.1->widgetsnbextension~=3.6.0->ipywidgets>=7.7->solara-ui==1.39.0->solara-ui[all]==1.39.0->solara->mesa) (1.8.3)\n",
            "Requirement already satisfied: terminado>=0.8.3 in /usr/local/lib/python3.10/dist-packages (from notebook>=4.4.1->widgetsnbextension~=3.6.0->ipywidgets>=7.7->solara-ui==1.39.0->solara-ui[all]==1.39.0->solara->mesa) (0.18.1)\n",
            "Requirement already satisfied: prometheus-client in /usr/local/lib/python3.10/dist-packages (from notebook>=4.4.1->widgetsnbextension~=3.6.0->ipywidgets>=7.7->solara-ui==1.39.0->solara-ui[all]==1.39.0->solara->mesa) (0.21.0)\n",
            "Requirement already satisfied: nbclassic>=0.4.7 in /usr/local/lib/python3.10/dist-packages (from notebook>=4.4.1->widgetsnbextension~=3.6.0->ipywidgets>=7.7->solara-ui==1.39.0->solara-ui[all]==1.39.0->solara->mesa) (1.1.0)\n",
            "Requirement already satisfied: entrypoints in /usr/local/lib/python3.10/dist-packages (from jupyter-client>=7.0.0->solara-server==1.39.0->solara-server[dev,starlette]==1.39.0->solara->mesa) (0.4)\n",
            "Requirement already satisfied: ptyprocess>=0.5 in /usr/local/lib/python3.10/dist-packages (from pexpect>4.3->ipython>=4.0.0->ipywidgets>=7.7->solara-ui==1.39.0->solara-ui[all]==1.39.0->solara->mesa) (0.7.0)\n",
            "Requirement already satisfied: wcwidth in /usr/local/lib/python3.10/dist-packages (from prompt-toolkit!=3.0.0,!=3.0.1,<3.1.0,>=2.0.0->ipython>=4.0.0->ipywidgets>=7.7->solara-ui==1.39.0->solara-ui[all]==1.39.0->solara->mesa) (0.2.13)\n",
            "Requirement already satisfied: notebook-shim>=0.2.3 in /usr/local/lib/python3.10/dist-packages (from nbclassic>=0.4.7->notebook>=4.4.1->widgetsnbextension~=3.6.0->ipywidgets>=7.7->solara-ui==1.39.0->solara-ui[all]==1.39.0->solara->mesa) (0.2.4)\n",
            "Requirement already satisfied: lxml in /usr/local/lib/python3.10/dist-packages (from nbconvert>=5->notebook>=4.4.1->widgetsnbextension~=3.6.0->ipywidgets>=7.7->solara-ui==1.39.0->solara-ui[all]==1.39.0->solara->mesa) (4.9.4)\n",
            "Requirement already satisfied: beautifulsoup4 in /usr/local/lib/python3.10/dist-packages (from nbconvert>=5->notebook>=4.4.1->widgetsnbextension~=3.6.0->ipywidgets>=7.7->solara-ui==1.39.0->solara-ui[all]==1.39.0->solara->mesa) (4.12.3)\n",
            "Requirement already satisfied: bleach in /usr/local/lib/python3.10/dist-packages (from nbconvert>=5->notebook>=4.4.1->widgetsnbextension~=3.6.0->ipywidgets>=7.7->solara-ui==1.39.0->solara-ui[all]==1.39.0->solara->mesa) (6.1.0)\n",
            "Requirement already satisfied: defusedxml in /usr/local/lib/python3.10/dist-packages (from nbconvert>=5->notebook>=4.4.1->widgetsnbextension~=3.6.0->ipywidgets>=7.7->solara-ui==1.39.0->solara-ui[all]==1.39.0->solara->mesa) (0.7.1)\n",
            "Requirement already satisfied: jupyterlab-pygments in /usr/local/lib/python3.10/dist-packages (from nbconvert>=5->notebook>=4.4.1->widgetsnbextension~=3.6.0->ipywidgets>=7.7->solara-ui==1.39.0->solara-ui[all]==1.39.0->solara->mesa) (0.3.0)\n",
            "Requirement already satisfied: mistune<2,>=0.8.1 in /usr/local/lib/python3.10/dist-packages (from nbconvert>=5->notebook>=4.4.1->widgetsnbextension~=3.6.0->ipywidgets>=7.7->solara-ui==1.39.0->solara-ui[all]==1.39.0->solara->mesa) (0.8.4)\n",
            "Requirement already satisfied: nbclient>=0.5.0 in /usr/local/lib/python3.10/dist-packages (from nbconvert>=5->notebook>=4.4.1->widgetsnbextension~=3.6.0->ipywidgets>=7.7->solara-ui==1.39.0->solara-ui[all]==1.39.0->solara->mesa) (0.10.0)\n",
            "Requirement already satisfied: pandocfilters>=1.4.1 in /usr/local/lib/python3.10/dist-packages (from nbconvert>=5->notebook>=4.4.1->widgetsnbextension~=3.6.0->ipywidgets>=7.7->solara-ui==1.39.0->solara-ui[all]==1.39.0->solara->mesa) (1.5.1)\n",
            "Requirement already satisfied: tinycss2 in /usr/local/lib/python3.10/dist-packages (from nbconvert>=5->notebook>=4.4.1->widgetsnbextension~=3.6.0->ipywidgets>=7.7->solara-ui==1.39.0->solara-ui[all]==1.39.0->solara->mesa) (1.3.0)\n",
            "Requirement already satisfied: argon2-cffi-bindings in /usr/local/lib/python3.10/dist-packages (from argon2-cffi->notebook>=4.4.1->widgetsnbextension~=3.6.0->ipywidgets>=7.7->solara-ui==1.39.0->solara-ui[all]==1.39.0->solara->mesa) (21.2.0)\n",
            "Requirement already satisfied: jupyter-server<3,>=1.8 in /usr/local/lib/python3.10/dist-packages (from notebook-shim>=0.2.3->nbclassic>=0.4.7->notebook>=4.4.1->widgetsnbextension~=3.6.0->ipywidgets>=7.7->solara-ui==1.39.0->solara-ui[all]==1.39.0->solara->mesa) (1.24.0)\n",
            "Requirement already satisfied: cffi>=1.0.1 in /usr/local/lib/python3.10/dist-packages (from argon2-cffi-bindings->argon2-cffi->notebook>=4.4.1->widgetsnbextension~=3.6.0->ipywidgets>=7.7->solara-ui==1.39.0->solara-ui[all]==1.39.0->solara->mesa) (1.17.1)\n",
            "Requirement already satisfied: soupsieve>1.2 in /usr/local/lib/python3.10/dist-packages (from beautifulsoup4->nbconvert>=5->notebook>=4.4.1->widgetsnbextension~=3.6.0->ipywidgets>=7.7->solara-ui==1.39.0->solara-ui[all]==1.39.0->solara->mesa) (2.6)\n",
            "Requirement already satisfied: webencodings in /usr/local/lib/python3.10/dist-packages (from bleach->nbconvert>=5->notebook>=4.4.1->widgetsnbextension~=3.6.0->ipywidgets>=7.7->solara-ui==1.39.0->solara-ui[all]==1.39.0->solara->mesa) (0.5.1)\n",
            "Requirement already satisfied: pycparser in /usr/local/lib/python3.10/dist-packages (from cffi>=1.0.1->argon2-cffi-bindings->argon2-cffi->notebook>=4.4.1->widgetsnbextension~=3.6.0->ipywidgets>=7.7->solara-ui==1.39.0->solara-ui[all]==1.39.0->solara->mesa) (2.22)\n",
            "Requirement already satisfied: websocket-client in /usr/local/lib/python3.10/dist-packages (from jupyter-server<3,>=1.8->notebook-shim>=0.2.3->nbclassic>=0.4.7->notebook>=4.4.1->widgetsnbextension~=3.6.0->ipywidgets>=7.7->solara-ui==1.39.0->solara-ui[all]==1.39.0->solara->mesa) (1.8.0)\n",
            "Downloading mesa-2.4.0-py3-none-any.whl (69 kB)\n",
            "\u001b[2K   \u001b[90m━━━━━━━━━━━━━━━━━━━━━━━━━━━━━━━━━━━━━━━━\u001b[0m \u001b[32m69.2/69.2 kB\u001b[0m \u001b[31m2.1 MB/s\u001b[0m eta \u001b[36m0:00:00\u001b[0m\n",
            "\u001b[?25hDownloading Mesa_Viz_Tornado-0.1.3-py3-none-any.whl (1.6 MB)\n",
            "\u001b[2K   \u001b[90m━━━━━━━━━━━━━━━━━━━━━━━━━━━━━━━━━━━━━━━━\u001b[0m \u001b[32m1.6/1.6 MB\u001b[0m \u001b[31m18.9 MB/s\u001b[0m eta \u001b[36m0:00:00\u001b[0m\n",
            "\u001b[?25hDownloading cookiecutter-2.6.0-py3-none-any.whl (39 kB)\n",
            "Downloading solara-1.39.0-py2.py3-none-any.whl (5.7 kB)\n",
            "Downloading solara_server-1.39.0-py2.py3-none-any.whl (3.9 kB)\n",
            "Downloading solara_ui-1.39.0-py2.py3-none-any.whl (1.3 MB)\n",
            "\u001b[2K   \u001b[90m━━━━━━━━━━━━━━━━━━━━━━━━━━━━━━━━━━━━━━━━\u001b[0m \u001b[32m1.3/1.3 MB\u001b[0m \u001b[31m16.5 MB/s\u001b[0m eta \u001b[36m0:00:00\u001b[0m\n",
            "\u001b[?25hDownloading binaryornot-0.4.4-py2.py3-none-any.whl (9.0 kB)\n",
            "Downloading arrow-1.3.0-py3-none-any.whl (66 kB)\n",
            "\u001b[2K   \u001b[90m━━━━━━━━━━━━━━━━━━━━━━━━━━━━━━━━━━━━━━━━\u001b[0m \u001b[32m66.4/66.4 kB\u001b[0m \u001b[31m3.2 MB/s\u001b[0m eta \u001b[36m0:00:00\u001b[0m\n",
            "\u001b[?25hDownloading ipyvue-1.11.1-py2.py3-none-any.whl (2.7 MB)\n",
            "\u001b[2K   \u001b[90m━━━━━━━━━━━━━━━━━━━━━━━━━━━━━━━━━━━━━━━━\u001b[0m \u001b[32m2.7/2.7 MB\u001b[0m \u001b[31m24.8 MB/s\u001b[0m eta \u001b[36m0:00:00\u001b[0m\n",
            "\u001b[?25hDownloading ipyvuetify-1.10.0-py2.py3-none-any.whl (6.1 MB)\n",
            "\u001b[2K   \u001b[90m━━━━━━━━━━━━━━━━━━━━━━━━━━━━━━━━━━━━━━━━\u001b[0m \u001b[32m6.1/6.1 MB\u001b[0m \u001b[31m26.7 MB/s\u001b[0m eta \u001b[36m0:00:00\u001b[0m\n",
            "\u001b[?25hDownloading reacton-1.8.3-py2.py3-none-any.whl (107 kB)\n",
            "\u001b[2K   \u001b[90m━━━━━━━━━━━━━━━━━━━━━━━━━━━━━━━━━━━━━━━━\u001b[0m \u001b[32m107.9/107.9 kB\u001b[0m \u001b[31m4.5 MB/s\u001b[0m eta \u001b[36m0:00:00\u001b[0m\n",
            "\u001b[?25hDownloading types_python_dateutil-2.9.0.20240906-py3-none-any.whl (9.7 kB)\n",
            "Downloading rich_click-1.8.3-py3-none-any.whl (35 kB)\n",
            "Downloading starlette-0.39.2-py3-none-any.whl (73 kB)\n",
            "\u001b[2K   \u001b[90m━━━━━━━━━━━━━━━━━━━━━━━━━━━━━━━━━━━━━━━━\u001b[0m \u001b[32m73.2/73.2 kB\u001b[0m \u001b[31m4.4 MB/s\u001b[0m eta \u001b[36m0:00:00\u001b[0m\n",
            "\u001b[?25hDownloading uvicorn-0.31.0-py3-none-any.whl (63 kB)\n",
            "\u001b[2K   \u001b[90m━━━━━━━━━━━━━━━━━━━━━━━━━━━━━━━━━━━━━━━━\u001b[0m \u001b[32m63.7/63.7 kB\u001b[0m \u001b[31m2.5 MB/s\u001b[0m eta \u001b[36m0:00:00\u001b[0m\n",
            "\u001b[?25hDownloading watchdog-5.0.3-py3-none-manylinux2014_x86_64.whl (79 kB)\n",
            "\u001b[2K   \u001b[90m━━━━━━━━━━━━━━━━━━━━━━━━━━━━━━━━━━━━━━━━\u001b[0m \u001b[32m79.3/79.3 kB\u001b[0m \u001b[31m3.4 MB/s\u001b[0m eta \u001b[36m0:00:00\u001b[0m\n",
            "\u001b[?25hDownloading watchfiles-0.24.0-cp310-cp310-manylinux_2_17_x86_64.manylinux2014_x86_64.whl (425 kB)\n",
            "\u001b[2K   \u001b[90m━━━━━━━━━━━━━━━━━━━━━━━━━━━━━━━━━━━━━━━━\u001b[0m \u001b[32m425.7/425.7 kB\u001b[0m \u001b[31m11.9 MB/s\u001b[0m eta \u001b[36m0:00:00\u001b[0m\n",
            "\u001b[?25hDownloading websockets-13.1-cp310-cp310-manylinux_2_5_x86_64.manylinux1_x86_64.manylinux_2_17_x86_64.manylinux2014_x86_64.whl (164 kB)\n",
            "\u001b[2K   \u001b[90m━━━━━━━━━━━━━━━━━━━━━━━━━━━━━━━━━━━━━━━━\u001b[0m \u001b[32m164.1/164.1 kB\u001b[0m \u001b[31m10.7 MB/s\u001b[0m eta \u001b[36m0:00:00\u001b[0m\n",
            "\u001b[?25hDownloading h11-0.14.0-py3-none-any.whl (58 kB)\n",
            "\u001b[2K   \u001b[90m━━━━━━━━━━━━━━━━━━━━━━━━━━━━━━━━━━━━━━━━\u001b[0m \u001b[32m58.3/58.3 kB\u001b[0m \u001b[31m4.1 MB/s\u001b[0m eta \u001b[36m0:00:00\u001b[0m\n",
            "\u001b[?25hDownloading pymdown_extensions-10.11.2-py3-none-any.whl (259 kB)\n",
            "\u001b[2K   \u001b[90m━━━━━━━━━━━━━━━━━━━━━━━━━━━━━━━━━━━━━━━━\u001b[0m \u001b[32m259.0/259.0 kB\u001b[0m \u001b[31m16.4 MB/s\u001b[0m eta \u001b[36m0:00:00\u001b[0m\n",
            "\u001b[?25hUsing cached jedi-0.19.1-py2.py3-none-any.whl (1.6 MB)\n",
            "Downloading jupyter_client-7.4.9-py3-none-any.whl (133 kB)\n",
            "\u001b[2K   \u001b[90m━━━━━━━━━━━━━━━━━━━━━━━━━━━━━━━━━━━━━━━━\u001b[0m \u001b[32m133.5/133.5 kB\u001b[0m \u001b[31m9.2 MB/s\u001b[0m eta \u001b[36m0:00:00\u001b[0m\n",
            "\u001b[?25hInstalling collected packages: websockets, watchdog, types-python-dateutil, pymdown-extensions, mesa-viz-tornado, jedi, h11, binaryornot, watchfiles, uvicorn, starlette, jupyter-client, arrow, rich-click, cookiecutter, reacton, ipyvue, ipyvuetify, solara-ui, solara-server, solara, mesa\n",
            "  Attempting uninstall: jupyter-client\n",
            "    Found existing installation: jupyter-client 6.1.12\n",
            "    Uninstalling jupyter-client-6.1.12:\n",
            "      Successfully uninstalled jupyter-client-6.1.12\n",
            "Successfully installed arrow-1.3.0 binaryornot-0.4.4 cookiecutter-2.6.0 h11-0.14.0 ipyvue-1.11.1 ipyvuetify-1.10.0 jedi-0.19.1 jupyter-client-7.4.9 mesa-2.4.0 mesa-viz-tornado-0.1.3 pymdown-extensions-10.11.2 reacton-1.8.3 rich-click-1.8.3 solara-1.39.0 solara-server-1.39.0 solara-ui-1.39.0 starlette-0.39.2 types-python-dateutil-2.9.0.20240906 uvicorn-0.31.0 watchdog-5.0.3 watchfiles-0.24.0 websockets-13.1\n"
          ]
        }
      ]
    },
    {
      "cell_type": "markdown",
      "source": [
        "# Black Death"
      ],
      "metadata": {
        "id": "fqn466ekHZBQ"
      }
    },
    {
      "cell_type": "code",
      "source": [
        "class PlagueAgent(Agent):\n",
        "  def __init__(self, unique_id, model):\n",
        "    super().__init__(unique_id, model)\n",
        "    self.health_status = \"Susceptible\"\n",
        "    self.age = self.random.randrange(1,80)\n",
        "    self.days_infected = 0\n",
        "    self.recovered = False\n",
        "    self.dead = False\n",
        "\n",
        "  def step(self):\n",
        "    self.try_random_infection()\n",
        "\n",
        "    if self.health_status == \"Infected\":\n",
        "      self.days_infected += 1\n",
        "      if self.days_infected >= 4:\n",
        "        self.check_recovery_or_death()\n",
        "\n",
        "      self.spread_disease()\n",
        "\n",
        "    self.move()\n",
        "\n",
        "  def spread_disease(self):\n",
        "    infection_chance = 0.1\n",
        "\n",
        "    neighbors = self.model.grid.get_neighbors(self.pos, moore=True, include_center=False)\n",
        "\n",
        "    for neighbor in neighbors:\n",
        "      if isinstance(neighbor, PlagueAgent) and neighbor.health_status == \"Susceptible\":\n",
        "        if self.random.random() < infection_chance:\n",
        "          neighbor.health_status = \"Infected\"\n",
        "\n",
        "  def try_random_infection(self):\n",
        "    chance = 0.05\n",
        "    if self.health_status == \"Susceptible\" and self.random.random() < chance:\n",
        "      self.health_status = \"Infected\"\n",
        "\n",
        "  def check_recovery_or_death(self):\n",
        "    if self.age < 30:\n",
        "      recovery_chance = 0.4\n",
        "    elif 30 <= self.age <= 50:\n",
        "      recovery_chance = 0.3\n",
        "    else:\n",
        "      recovery_chance = 0.2\n",
        "\n",
        "    if self.age < 30:\n",
        "      death_chance = 0.4\n",
        "    elif 30 <= self.age <= 50:\n",
        "      death_chance = 0.6\n",
        "    else:\n",
        "      death_chance = 0.8\n",
        "\n",
        "    if not self.recovered and not self.dead:\n",
        "      if self.random.random() < recovery_chance:\n",
        "        self.recovered = True\n",
        "        self.health_status = \"Recovered\"\n",
        "\n",
        "    if not self.recovered and not self.dead:\n",
        "      if self.random.random() < death_chance:\n",
        "        self.dead = True\n",
        "        self.health_status = \"Dead\"\n",
        "\n",
        "  def move(self):\n",
        "\n",
        "    if self.health_status == \"Dead\":\n",
        "      return\n",
        "\n",
        "    x, y = self.pos\n",
        "\n",
        "    neighbors = []\n",
        "    for dx in [-1, 0, 1]:\n",
        "        for dy in [-1, 0, 1]:\n",
        "            new_x = x + dx\n",
        "            new_y = y + dy\n",
        "            if 0 <= new_x < self.model.grid.width and 0 <= new_y < self.model.grid.height:\n",
        "                neighbors.append((new_x, new_y))\n",
        "\n",
        "    if neighbors:\n",
        "        new_position = self.random.choice(neighbors)\n",
        "        self.model.grid.move_agent(self, new_position)\n",
        "\n",
        "\n",
        "class PlagueModel(Model):\n",
        "  def __init__(self, width, height, num_agents):\n",
        "        super().__init__()\n",
        "        self.num_agents = num_agents\n",
        "        self.height = height\n",
        "        self.width = width\n",
        "        self.grid = MultiGrid(width, height, True)\n",
        "        self.schedule = RandomActivation(self)\n",
        "\n",
        "        self.create_agents()\n",
        "\n",
        "  def create_agents(self):\n",
        "        for i in range(self.num_agents):\n",
        "          agent = PlagueAgent(i, self)\n",
        "          self.schedule.add(agent)\n",
        "\n",
        "          x = self.random.randrange(self.grid.width)\n",
        "          y = self.random.randrange(self.grid.height)\n",
        "          self.grid.place_agent(agent, (x,y))\n",
        "\n",
        "  def step(self):\n",
        "    self.schedule.step()\n",
        "\n",
        "  def plot_agents(self):\n",
        "    grid = np.zeros((self.grid.height,self.grid.width))\n",
        "\n",
        "    for cell in self.grid.coord_iter():\n",
        "      cell_content,(x,y) = cell\n",
        "\n",
        "      if len(cell_content) > 0:\n",
        "        agent = cell_content[0]\n",
        "        if agent.health_status == \"Susceptible\":\n",
        "          grid[x][y] = 1\n",
        "        elif agent.health_status == \"Infected\":\n",
        "          grid[x][y] = 2\n",
        "        elif agent.health_status == \"Recovered\":\n",
        "          grid[x][y] = 3\n",
        "        elif agent.health_status == \"Dead\":\n",
        "          grid[x][y] = 4\n",
        "\n",
        "    custom_colours=[\"white\",\"blue\",\"red\",\"green\",\"black\"]\n",
        "    cmap = mcolors.ListedColormap(custom_colours)\n",
        "\n",
        "    plt.imshow(grid,cmap=cmap,interpolation='nearest',vmin=0,vmax=5)\n",
        "    plt.title(\"Black Plague\")\n",
        "    plt.show()\n",
        ""
      ],
      "metadata": {
        "id": "iq2lytXIHfEg"
      },
      "execution_count": 23,
      "outputs": []
    },
    {
      "cell_type": "code",
      "source": [
        "model = PlagueModel(width=20, height=20, num_agents=100)\n",
        "\n",
        "for i in range(55):\n",
        "  model.step()\n",
        "\n",
        "model.plot_agents()\n"
      ],
      "metadata": {
        "colab": {
          "base_uri": "https://localhost:8080/",
          "height": 452
        },
        "id": "rY7DA28Wzmzh",
        "outputId": "38ce63d6-35f2-4f9a-e7ba-cf23b6b76366"
      },
      "execution_count": 37,
      "outputs": [
        {
          "output_type": "display_data",
          "data": {
            "text/plain": [
              "<Figure size 640x480 with 1 Axes>"
            ],
            "image/png": "[encoded data removed]"
          },
          "metadata": {}
        }
      ]
    }
  ]
}